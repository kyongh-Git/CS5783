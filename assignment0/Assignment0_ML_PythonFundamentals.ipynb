{
  "nbformat": 4,
  "nbformat_minor": 0,
  "metadata": {
    "colab": {
      "name": "Assignment0_ML_PythonFundamentals.ipynb",
      "provenance": [],
      "collapsed_sections": []
    },
    "kernelspec": {
      "name": "python3",
      "display_name": "Python 3"
    },
    "language_info": {
      "name": "python"
    }
  },
  "cells": [
    {
      "cell_type": "code",
      "source": [
        "import numpy as np\n",
        "import matplotlib.pyplot as plt"
      ],
      "metadata": {
        "id": "lqF8geulcrMA"
      },
      "execution_count": 1,
      "outputs": []
    },
    {
      "cell_type": "code",
      "source": [
        "from google.colab import drive\n",
        "drive.mount('/content/drive')"
      ],
      "metadata": {
        "colab": {
          "base_uri": "https://localhost:8080/"
        },
        "id": "A6xb8hbscqJB",
        "outputId": "ff352b73-ac2c-4845-9ad4-5cf0c5389944"
      },
      "execution_count": 2,
      "outputs": [
        {
          "output_type": "stream",
          "name": "stdout",
          "text": [
            "Mounted at /content/drive\n"
          ]
        }
      ]
    },
    {
      "cell_type": "code",
      "source": [
        "# Problem 1\n",
        "# input data Directory\n",
        "dir = '/content/drive/My Drive/Colab Notebooks/ML Assignments/Assignment0'\n",
        "\n",
        "# input data file\n",
        "input_data = 'test.txt'\n",
        "\n",
        "fp = open(dir + \"/\" + input_data,'r')\n",
        "\n",
        "histogram = dict()\n",
        "sorted_histogram = dict()\n",
        "normalized_histogram = dict()\n",
        "# create a dictionary for frequency of given input\n",
        "for line in fp:\n",
        "  for char in line.lower():\n",
        "    if char.isalpha():\n",
        "      if histogram.get(char) is None:\n",
        "        histogram[char] = 1\n",
        "      else:\n",
        "        histogram[char] += 1\n",
        "# sorting the dictionary\n",
        "for i in sorted(histogram.keys()):\n",
        "  sorted_histogram[i] = histogram[i]\n",
        "# reformat into numpy array\n",
        "result = sorted_histogram.items()\n",
        "data = list(result)\n",
        "histogramNumpyArray = np.array(data)\n",
        "\n",
        "print(sorted_histogram)\n",
        "print(histogramNumpyArray)"
      ],
      "metadata": {
        "id": "ml_8MR6IcupF",
        "colab": {
          "base_uri": "https://localhost:8080/"
        },
        "outputId": "6c60e3d0-9e7f-405b-da13-45400877b2fe"
      },
      "execution_count": 9,
      "outputs": [
        {
          "output_type": "stream",
          "name": "stdout",
          "text": [
            "{'a': 44, 'b': 24, 'c': 23, 'd': 30, 'e': 63, 'f': 22, 'g': 23, 'h': 25, 'i': 56, 'j': 23, 'k': 22, 'l': 26, 'm': 22, 'n': 28, 'o': 50, 'p': 25, 'q': 22, 'r': 40, 's': 25, 't': 36, 'u': 38, 'v': 22, 'w': 22, 'x': 22, 'y': 27, 'z': 23}\n",
            "[['a' '44']\n",
            " ['b' '24']\n",
            " ['c' '23']\n",
            " ['d' '30']\n",
            " ['e' '63']\n",
            " ['f' '22']\n",
            " ['g' '23']\n",
            " ['h' '25']\n",
            " ['i' '56']\n",
            " ['j' '23']\n",
            " ['k' '22']\n",
            " ['l' '26']\n",
            " ['m' '22']\n",
            " ['n' '28']\n",
            " ['o' '50']\n",
            " ['p' '25']\n",
            " ['q' '22']\n",
            " ['r' '40']\n",
            " ['s' '25']\n",
            " ['t' '36']\n",
            " ['u' '38']\n",
            " ['v' '22']\n",
            " ['w' '22']\n",
            " ['x' '22']\n",
            " ['y' '27']\n",
            " ['z' '23']]\n"
          ]
        }
      ]
    },
    {
      "cell_type": "code",
      "source": [
        "# normalization\n",
        "total = 0\n",
        "for i in sorted_histogram.values():\n",
        "  total += i\n",
        "\n",
        "for i in sorted_histogram.keys():\n",
        "  normalized_histogram[i] = histogram[i] / total"
      ],
      "metadata": {
        "id": "XKIphR7Jku4F"
      },
      "execution_count": 10,
      "outputs": []
    },
    {
      "cell_type": "code",
      "source": [
        "fig = plt.figure(figsize = (10, 5))\n",
        " \n",
        "# creating the bar chart with normalized data\n",
        "plt.bar(list(normalized_histogram.keys()), list(normalized_histogram.values()), color ='blue',\n",
        "        width = 0.4)\n",
        "plt.xlabel(\"Letters\")\n",
        "plt.ylabel(\"Frequencies\")\n",
        "plt.title(\"Problem1-normalized\")\n",
        "plt.show()\n",
        "# creating the bar chart with unnormalized data\n",
        "fig = plt.figure(figsize = (10, 5))\n",
        "plt.bar(list(sorted_histogram.keys()), list(sorted_histogram.values()), color ='red',\n",
        "        width = 0.4)\n",
        "plt.xlabel(\"Letters\")\n",
        "plt.ylabel(\"Frequencies\")\n",
        "plt.title(\"Problem1-unnormalized\")\n",
        "plt.show()"
      ],
      "metadata": {
        "colab": {
          "base_uri": "https://localhost:8080/",
          "height": 683
        },
        "id": "3K-KVOMIlMOZ",
        "outputId": "0d7eeca5-7cb1-483e-b03f-d044b8747f5e"
      },
      "execution_count": 11,
      "outputs": [
        {
          "output_type": "display_data",
          "data": {
            "text/plain": [
              "<Figure size 720x360 with 1 Axes>"
            ],
            "image/png": "[encoded data removed]"
          },
          "metadata": {
            "needs_background": "light"
          }
        },
        {
          "output_type": "display_data",
          "data": {
            "text/plain": [
              "<Figure size 720x360 with 1 Axes>"
            ],
            "image/png": "[encoded data removed]"
          },
          "metadata": {
            "needs_background": "light"
          }
        }
      ]
    },
    {
      "cell_type": "code",
      "source": [
        "# Problem 2\n",
        "import cv2\n",
        "from google.colab.patches import cv2_imshow\n",
        "imageFile = \"test.png\" # 128 *128\n",
        "img = cv2.imread(dir + \"/\" + imageFile)"
      ],
      "metadata": {
        "id": "5z9O0QequN-W"
      },
      "execution_count": 12,
      "outputs": []
    },
    {
      "cell_type": "code",
      "source": [
        "# red\n",
        "point_one = np.array([255, 0, 0])\n",
        "# green\n",
        "point_two = np.array([0, 255, 0])\n",
        "# blue\n",
        "point_three = np.array([0, 0, 255])\n",
        "\n",
        "new_img = list()\n",
        "# determine which color(R,G,B) the current pixel is most close\n",
        "for r in img:\n",
        "  new_row = list()\n",
        "  for c in r:\n",
        "    nm_array = np.asarray(c)\n",
        "    dist_one = np.sqrt(np.sum(np.square(point_one - nm_array)))\n",
        "    dist_two = np.sqrt(np.sum(np.square(point_two - nm_array)))\n",
        "    dist_three = np.sqrt(np.sum(np.square(point_three - nm_array)))\n",
        "    if (dist_one <= dist_two and dist_one <= dist_three):\n",
        "      new_row.append(point_one)\n",
        "    elif (dist_two <= dist_one and dist_two <= dist_three):\n",
        "      new_row.append(point_two)\n",
        "    elif (dist_three <= dist_one and dist_three <= dist_two):\n",
        "      new_row.append(point_three)\n",
        "  new_img.append(new_row)\n",
        "\n",
        "# show modified image\n",
        "cv2_imshow(np.asarray(new_img))\n",
        "# write output image\n",
        "cv2.imwrite(\"output1.png\", np.asarray(new_img))"
      ],
      "metadata": {
        "colab": {
          "base_uri": "https://localhost:8080/",
          "height": 162
        },
        "id": "vfmzwH7ixHdt",
        "outputId": "7369d169-6746-4ecd-ad29-8e7fa22fc812"
      },
      "execution_count": 13,
      "outputs": [
        {
          "output_type": "display_data",
          "data": {
            "text/plain": [
              "<PIL.Image.Image image mode=RGB size=128x128 at 0x7FA83072D110>"
            ],
            "image/png": "[encoded data removed]"
          },
          "metadata": {}
        },
        {
          "output_type": "execute_result",
          "data": {
            "text/plain": [
              "True"
            ]
          },
          "metadata": {},
          "execution_count": 13
        }
      ]
    },
    {
      "cell_type": "code",
      "source": [
        "new_img_two = list()\n",
        "# make 50*50 black square in the middle of the given image\n",
        "for i, r in enumerate(img):\n",
        "  new_row = list()\n",
        "  if i > 38 and i < 89:\n",
        "    for j, c in enumerate(r):\n",
        "      if j > 38 and j < 89:\n",
        "        new_row.append([0, 0, 0])\n",
        "      else:\n",
        "        new_row.append(c)\n",
        "  else:\n",
        "    new_row = r\n",
        "  new_img_two.append(new_row)\n",
        "# show modified image\n",
        "cv2_imshow(np.asarray(new_img_two))\n",
        "# write output image\n",
        "cv2.imwrite(\"output2.png\", np.asarray(new_img_two))"
      ],
      "metadata": {
        "colab": {
          "base_uri": "https://localhost:8080/",
          "height": 162
        },
        "id": "6xLohfRSI2iS",
        "outputId": "98342b09-98a7-4680-f635-7770bfc36474"
      },
      "execution_count": 14,
      "outputs": [
        {
          "output_type": "display_data",
          "data": {
            "text/plain": [
              "<PIL.Image.Image image mode=RGB size=128x128 at 0x7FA83073F190>"
            ],
            "image/png": "[encoded data removed]"
          },
          "metadata": {}
        },
        {
          "output_type": "execute_result",
          "data": {
            "text/plain": [
              "True"
            ]
          },
          "metadata": {},
          "execution_count": 14
        }
      ]
    },
    {
      "cell_type": "code",
      "source": [
        "# problem 3\n",
        "\n",
        "# Problem statement:\n",
        "# You and a friend go to buy tacos. You get three soft tacos and three burritos and your total bill is $11.25. Your\n",
        "# friend's bill is $10.00 for four soft tacos and two burritos. How much do soft tacos cost? How much do burritos cost?\n",
        "\n",
        "# Me: 3 tacos and 3 burritos = $11.25 => 3t + 3b = 11.25\n",
        "# Fr: 4 tacos and 2 burritos = $10.00 => 4t + 2b = 10.00\n",
        "# \n",
        "# Columns of a are variable coefficients, rows are individual equations\n",
        "a = np.array([[3, 3], [4, 2]])\n",
        "\n",
        "# Column vector of equation equalities\n",
        "b = np.array([[11.25], [10]])\n",
        "# Check to ensure matrix is nonsingular\n",
        "print(np.linalg.det(a))\n",
        "\n",
        "# Solve\n",
        "print(np.linalg.solve(a, b))\n",
        "\n",
        "# The price of a Taco = 1.25\n",
        "# The price of a Burrito = 2.5"
      ],
      "metadata": {
        "colab": {
          "base_uri": "https://localhost:8080/"
        },
        "id": "uyxLZapsOUyX",
        "outputId": "260a7df6-5d50-47f8-e680-9f03eae4d9ac"
      },
      "execution_count": 16,
      "outputs": [
        {
          "output_type": "stream",
          "name": "stdout",
          "text": [
            "-6.0\n",
            "[[1.25]\n",
            " [2.5 ]]\n"
          ]
        }
      ]
    }
  ]
}