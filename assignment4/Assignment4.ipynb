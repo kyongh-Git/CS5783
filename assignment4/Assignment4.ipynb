{
  "nbformat": 4,
  "nbformat_minor": 0,
  "metadata": {
    "colab": {
      "provenance": []
    },
    "kernelspec": {
      "name": "python3",
      "display_name": "Python 3"
    },
    "language_info": {
      "name": "python"
    },
    "gpuClass": "standard"
  },
  "cells": [
    {
      "cell_type": "code",
      "source": [
        "from sklearn import tree\n",
        "from sklearn import metrics\n",
        "from sklearn.neighbors import KNeighborsClassifier\n",
        "import matplotlib.pyplot as plt\n",
        "import numpy as np\n",
        "import pandas as pd\n",
        "import graphviz"
      ],
      "metadata": {
        "id": "X2lJeZee5OXz"
      },
      "execution_count": 1,
      "outputs": []
    },
    {
      "cell_type": "code",
      "source": [
        "from google.colab import drive\n",
        "drive.mount('/content/drive')"
      ],
      "metadata": {
        "colab": {
          "base_uri": "https://localhost:8080/"
        },
        "id": "gbdO-kLF_J6J",
        "outputId": "b2007a99-56a2-45a2-e941-9b3c584bd4b5"
      },
      "execution_count": 2,
      "outputs": [
        {
          "output_type": "stream",
          "name": "stdout",
          "text": [
            "Mounted at /content/drive\n"
          ]
        }
      ]
    },
    {
      "cell_type": "code",
      "source": [
        "# input data Directory\n",
        "dir = '/content/drive/My Drive'"
      ],
      "metadata": {
        "id": "ABikEnuz_LK-"
      },
      "execution_count": 3,
      "outputs": []
    },
    {
      "cell_type": "code",
      "source": [
        "# import the data file in padas excel file format\n",
        "# sheets = pd.ExcelFile(dir + \"/Colab Notebooks/ML Assignments/Assignment4/Asssignment4_Data.xlsx\")\n",
        "sheets = pd.ExcelFile(dir + \"/Asssignment4_Data.xlsx\")\n",
        "print(sheets.sheet_names)\n",
        "# import Train sheet\n",
        "df_train = pd.read_excel(sheets, sheet_name=sheets.sheet_names[0])\n",
        "# import Test sheet\n",
        "df_test = pd.read_excel(sheets, sheet_name=sheets.sheet_names[1])"
      ],
      "metadata": {
        "colab": {
          "base_uri": "https://localhost:8080/"
        },
        "id": "qwMWx2WQ-kLy",
        "outputId": "4c63274d-fb9f-49db-e8fc-8f107c8c3e40"
      },
      "execution_count": 42,
      "outputs": [
        {
          "output_type": "stream",
          "name": "stdout",
          "text": [
            "['Train', 'Test']\n"
          ]
        }
      ]
    },
    {
      "cell_type": "code",
      "source": [
        "# seperate training dataset into X and Y\n",
        "X_df_train = df_train.iloc[:,:-1]\n",
        "Y_df_train = df_train.iloc[:,-1:]\n",
        "# seperate test dataset into X and Y\n",
        "X_df_test = df_test.iloc[:,:-1]\n",
        "Y_df_test = df_test.iloc[:,-1:]"
      ],
      "metadata": {
        "id": "m9XSza4iH-pZ"
      },
      "execution_count": 27,
      "outputs": []
    },
    {
      "cell_type": "markdown",
      "source": [
        "Question 1-1\n",
        "\n",
        "The computation of the conditonal probabilities and the explantion are shown in the Assignment4_Q-1-1.pdf"
      ],
      "metadata": {
        "id": "wcWwkzoVL4tY"
      }
    },
    {
      "cell_type": "markdown",
      "source": [
        "Question 1-2\n",
        "\n",
        "Using your conditional probability table, write a Python code that will compute the\n",
        "probabilities for each example in the test data. Your program should output the\n",
        "probabilities of each class as well as the final classification based on the MAP rule.\n",
        "Note: You should hard-code the conditional probabilities from the previous step into your\n",
        "code."
      ],
      "metadata": {
        "id": "Aii9GurgHN_c"
      }
    },
    {
      "cell_type": "code",
      "source": [
        "# House ID 24\n",
        "# Apartment\n",
        "probOfApartment_24 = (1/7) * (1/7) * (1/7) * (1/7) * (3/7) * (2/7) * (3/7) * (1/7) * (7/20)\n",
        "# Condo\n",
        "probOfCondo_24 = (1/6) * (1/6) * (1/6) * (1/6) * (4/6) * (4/6) * (5/6) * (1/6) * (6/20)\n",
        "# House\n",
        "probOfHouse_24 = (1/7) * (1/7) * (1/7) * (1/7) * (2/7) * (4/7) * (5/7) * (1/7) * (7/20)\n",
        "\n",
        "print(f\"House ID 24: Apartment: {round(probOfApartment_24, 8)}, Condo: {round(probOfCondo_24, 8)}, House: {round(probOfHouse_24, 8)}\")\n",
        "if probOfApartment_24 > probOfCondo_24 and probOfApartment_24 > probOfHouse_24:\n",
        "  print(\"The class is Apartment\\n\")\n",
        "elif probOfCondo_24 > probOfApartment_24 and probOfCondo_24 > probOfHouse_24:\n",
        "  print(\"The class is Condo\\n\")\n",
        "elif probOfHouse_24 > probOfApartment_24 and probOfHouse_24 > probOfCondo_24:\n",
        "  print(\"The class is House\\n\")\n",
        "# House ID 25\n",
        "# Apartment\n",
        "probOfApartment_25 = (1/7) * (1/7) * (1/7) * (1/7) * (2/7) * (1/7) * (2/7) * (1/7) * (7/20)\n",
        "# Condo\n",
        "probOfCondo_25 = (1/6) * (1/6) * (1/6) * (1/6) * (2/6) * (1/6) * (1/6) * (1/6) * (6/20)\n",
        "# House\n",
        "probOfHouse_25 = (1/7) * (1/7) * (1/7) * (1/7) * (2/7) * (1/7) * (1/7) * (1/7) * (7/20)\n",
        "\n",
        "print(f\"House ID 25: Apartment: {round(probOfApartment_25, 8)}, Condo: {round(probOfCondo_25, 8)}, House: {round(probOfHouse_25, 8)}\")\n",
        "if probOfApartment_25 > probOfCondo_25 and probOfApartment_25 > probOfHouse_25:\n",
        "  print(\"The class is Apartment\\n\")\n",
        "elif probOfCondo_25 > probOfApartment_25 and probOfCondo_25 > probOfHouse_25:\n",
        "  print(\"The class is Condo\\n\")\n",
        "elif probOfHouse_25 > probOfApartment_25 and probOfHouse_25 > probOfCondo_25:\n",
        "  print(\"The class is House\\n\")\n",
        "# House ID 26\n",
        "# Apartment\n",
        "probOfApartment_26 = (1/7) * (5/7) * (1/7) * (1/7) * (2/7) * (2/7) * (3/7) * (1/7) * (7/20)\n",
        "# Condo\n",
        "probOfCondo_26 = (1/6) * (4/6) * (1/6) * (1/6) * (2/6) * (1/6) * (5/6) * (1/6) * (6/20)\n",
        "# House\n",
        "probOfHouse_26 = (1/7) * (6/7) * (1/7) * (1/7) * (2/7) * (2/7) * (5/7) * (1/7) * (7/20)\n",
        "\n",
        "print(f\"House ID 26: Apartment: {round(probOfApartment_26, 8)}, Condo: {round(probOfCondo_26, 8)}, House: {round(probOfHouse_26, 8)}\")\n",
        "if probOfApartment_26 > probOfCondo_26 and probOfApartment_26 > probOfHouse_26:\n",
        "  print(\"The class is Apartment\\n\")\n",
        "elif probOfCondo_26 > probOfApartment_26 and probOfCondo_26 > probOfHouse_26:\n",
        "  print(\"The class is Condo\\n\")\n",
        "elif probOfHouse_26 > probOfApartment_26 and probOfHouse_26 > probOfCondo_26:\n",
        "  print(\"The class is House\\n\")\n",
        "# House ID 27\n",
        "# Apartment\n",
        "probOfApartment_27 = (1/7) * (1/7) * (1/7) * (1/7) * (1/7) * (1/7) * (2/7) * (1/7) * (7/20)\n",
        "# Condo\n",
        "probOfCondo_27 = (1/6) * (1/6) * (1/6) * (1/6) * (1/6) * (1/6) * (1/6) * (1/6) * (6/20)\n",
        "# House\n",
        "probOfHouse_27 = (1/7) * (1/7) * (1/7) * (1/7) * (1/7) * (1/7) * (1/7) * (1/7) * (7/20)\n",
        "\n",
        "print(f\"House ID 27: Apartment: {round(probOfApartment_27, 8)}, Condo: {round(probOfCondo_27, 8)}, House: {round(probOfHouse_27, 8)}\")\n",
        "if probOfApartment_27 > probOfCondo_27 and probOfApartment_27 > probOfHouse_27:\n",
        "  print(\"The class is Apartment\\n\")\n",
        "elif probOfCondo_27 > probOfApartment_27 and probOfCondo_27 > probOfHouse_27:\n",
        "  print(\"The class is Condo\\n\")\n",
        "elif probOfHouse_27 > probOfApartment_27 and probOfHouse_27 > probOfCondo_27:\n",
        "  print(\"The class is House\\n\")\n",
        "# House ID 28\n",
        "# Apartment\n",
        "probOfApartment_28 = (1/7) * (1/7) * (1/7) * (1/7) * (2/7) * (2/7) * (3/7) * (1/7) * (7/20)\n",
        "# Condo\n",
        "probOfCondo_28 = (1/6) * (1/6) * (1/6) * (1/6) * (2/6) * (4/6) * (5/6) * (1/6) * (6/20)\n",
        "# House\n",
        "probOfHouse_28 = (1/7) * (1/7) * (1/7) * (1/7) * (2/7) * (4/7) * (5/7) * (2/7) * (7/20)\n",
        "\n",
        "print(f\"House ID 28: Apartment: {round(probOfApartment_28, 8)}, Condo: {round(probOfCondo_28, 8)}, House: {round(probOfHouse_28, 8)}\")\n",
        "if probOfApartment_28 > probOfCondo_28 and probOfApartment_28 > probOfHouse_28:\n",
        "  print(\"The class is Apartment\\n\")\n",
        "elif probOfCondo_28 > probOfApartment_28 and probOfCondo_28 > probOfHouse_28:\n",
        "  print(\"The class is Condo\\n\")\n",
        "elif probOfHouse_28 > probOfApartment_28 and probOfHouse_28 > probOfCondo_28:\n",
        "  print(\"The class is House\\n\")"
      ],
      "metadata": {
        "colab": {
          "base_uri": "https://localhost:8080/"
        },
        "id": "UTqp91tnHNdr",
        "outputId": "0f35bfd8-c019-42fd-bd21-7ab2268c3d9b"
      },
      "execution_count": 28,
      "outputs": [
        {
          "output_type": "stream",
          "name": "stdout",
          "text": [
            "House ID 24: Apartment: 1.09e-06, Condo: 1.429e-05, House: 2.43e-06\n",
            "The class is Condo\n",
            "\n",
            "House ID 25: Apartment: 2.4e-07, Condo: 3.6e-07, House: 1.2e-07\n",
            "The class is Condo\n",
            "\n",
            "House ID 26: Apartment: 3.64e-06, Condo: 7.14e-06, House: 7.29e-06\n",
            "The class is House\n",
            "\n",
            "House ID 27: Apartment: 1.2e-07, Condo: 1.8e-07, House: 6e-08\n",
            "The class is Condo\n",
            "\n",
            "House ID 28: Apartment: 7.3e-07, Condo: 7.14e-06, House: 4.86e-06\n",
            "The class is Condo\n",
            "\n"
          ]
        }
      ]
    },
    {
      "cell_type": "markdown",
      "source": [
        "Question 2"
      ],
      "metadata": {
        "id": "xZq2d4H444cT"
      }
    },
    {
      "cell_type": "markdown",
      "source": [
        "Q2-1\n",
        "\n",
        "a. What is the accuracy on the training set?\n",
        "\n",
        "b. What is the accuracy on the test set?"
      ],
      "metadata": {
        "id": "Mu-VKVGBMvZt"
      }
    },
    {
      "cell_type": "code",
      "source": [
        "# call the decision tree classfier from sci-kit learn library\n",
        "clf = tree.DecisionTreeClassifier()\n",
        "clf = clf.fit(X_df_train, Y_df_train)\n",
        "# prediction of traning dataset\n",
        "predict1 = clf.predict(X_df_train)\n",
        "accuracy_train = metrics.accuracy_score(Y_df_train, predict1)\n",
        "print(f\"Accuracy of train: {accuracy_train}\")\n",
        "# prediction of test dataset\n",
        "predict2 = clf.predict(X_df_test)\n",
        "accuracy_test = metrics.accuracy_score(Y_df_test, predict2)\n",
        "print(f\"Accuracy of test: {accuracy_test}\")"
      ],
      "metadata": {
        "colab": {
          "base_uri": "https://localhost:8080/"
        },
        "id": "6Q7HheaZC1Nw",
        "outputId": "202f3783-a3e4-4a34-e34d-a931a80eeb75"
      },
      "execution_count": 29,
      "outputs": [
        {
          "output_type": "stream",
          "name": "stdout",
          "text": [
            "Accuracy of train: 1.0\n",
            "Accuracy of test: 0.4\n"
          ]
        }
      ]
    },
    {
      "cell_type": "code",
      "source": [
        "print(f\"Depth of the original tree {clf.get_depth()}\\n\")\n",
        "\n",
        "# Try all the possible depths from the maximum tree depth.\n",
        "for i in range(1, clf.get_depth()+1):\n",
        "  clf1 = tree.DecisionTreeClassifier(max_depth=i)\n",
        "  clf1 = clf1.fit(X_df_train, Y_df_train)\n",
        "  print(f\"Current Tree depth: {clf1.get_depth()}\")\n",
        "  predict12 = clf1.predict(X_df_train)\n",
        "  accuracy_train1 = metrics.accuracy_score(Y_df_train, predict12)\n",
        "  print(f\"Accuracy of train: {accuracy_train1}\")\n",
        "\n",
        "  predict22 = clf1.predict(X_df_test)\n",
        "  print(Y_df_test)\n",
        "  print(predict22)\n",
        "  accuracy_test1 = metrics.accuracy_score(Y_df_test, predict22)\n",
        "  print(f\"Accuracy of test: {accuracy_test1}\")\n",
        "  print(f\" \")"
      ],
      "metadata": {
        "colab": {
          "base_uri": "https://localhost:8080/"
        },
        "id": "GsyiemZAHjzV",
        "outputId": "71065e6a-c40c-4188-f6cf-8567fb8cea97"
      },
      "execution_count": 31,
      "outputs": [
        {
          "output_type": "stream",
          "name": "stdout",
          "text": [
            "Depth of the original tree 5\n",
            "\n",
            "Current Tree depth: 1\n",
            "Accuracy of train: 0.55\n",
            "  Construction type\n",
            "0         Apartment\n",
            "1             House\n",
            "2             House\n",
            "3         Apartment\n",
            "4         Apartment\n",
            "['Apartment' 'Apartment' 'House' 'House' 'House']\n",
            "Accuracy of test: 0.4\n",
            " \n",
            "Current Tree depth: 2\n",
            "Accuracy of train: 0.75\n",
            "  Construction type\n",
            "0         Apartment\n",
            "1             House\n",
            "2             House\n",
            "3         Apartment\n",
            "4         Apartment\n",
            "['Apartment' 'Apartment' 'House' 'Apartment' 'Apartment']\n",
            "Accuracy of test: 0.8\n",
            " \n",
            "Current Tree depth: 3\n",
            "Accuracy of train: 0.9\n",
            "  Construction type\n",
            "0         Apartment\n",
            "1             House\n",
            "2             House\n",
            "3         Apartment\n",
            "4         Apartment\n",
            "['Condo' 'Condo' 'Condo' 'Apartment' 'Apartment']\n",
            "Accuracy of test: 0.4\n",
            " \n",
            "Current Tree depth: 4\n",
            "Accuracy of train: 0.95\n",
            "  Construction type\n",
            "0         Apartment\n",
            "1             House\n",
            "2             House\n",
            "3         Apartment\n",
            "4         Apartment\n",
            "['Condo' 'Condo' 'Condo' 'Apartment' 'Apartment']\n",
            "Accuracy of test: 0.4\n",
            " \n",
            "Current Tree depth: 5\n",
            "Accuracy of train: 1.0\n",
            "  Construction type\n",
            "0         Apartment\n",
            "1             House\n",
            "2             House\n",
            "3         Apartment\n",
            "4         Apartment\n",
            "['Condo' 'Condo' 'Condo' 'Apartment' 'Apartment']\n",
            "Accuracy of test: 0.4\n",
            " \n"
          ]
        }
      ]
    },
    {
      "cell_type": "code",
      "source": [
        "# visualization of the decision tree\n",
        "# reference: https://scikit-learn.org/stable/modules/tree.html\n",
        "dot_data = tree.export_graphviz(clf, out_file=None, \n",
        "                     feature_names=X_df_train.columns.values,  \n",
        "                     class_names=np.unique(Y_df_train),  \n",
        "                     filled=True, rounded=True,  \n",
        "                     special_characters=True)\n",
        "graph = graphviz.Source(dot_data)  \n",
        "graph "
      ],
      "metadata": {
        "colab": {
          "base_uri": "https://localhost:8080/",
          "height": 916
        },
        "id": "Wh3WCXYlTx3Z",
        "outputId": "0b10d5d3-9a49-44d9-94cf-6e6571c43ee7"
      },
      "execution_count": 35,
      "outputs": [
        {
          "output_type": "execute_result",
          "data": {
            "text/plain": [
              "<graphviz.files.Source at 0x7f614e9a2e10>"
            ],
            "image/svg+xml": "<?xml version=\"1.0\" encoding=\"UTF-8\" standalone=\"no\"?>\n<!DOCTYPE svg PUBLIC \"-//W3C//DTD SVG 1.1//EN\"\n \"http://www.w3.org/Graphics/SVG/1.1/DTD/svg11.dtd\">\n<!-- Generated by graphviz version 2.40.1 (20161225.0304)\n -->\n<!-- Title: Tree Pages: 1 -->\n<svg width=\"689pt\" height=\"671pt\"\n viewBox=\"0.00 0.00 689.00 671.00\" xmlns=\"http://www.w3.org/2000/svg\" xmlns:xlink=\"http://www.w3.org/1999/xlink\">\n<g id=\"graph0\" class=\"graph\" transform=\"scale(1 1) rotate(0) translate(4 667)\">\n<title>Tree</title>\n<polygon fill=\"#ffffff\" stroke=\"transparent\" points=\"-4,4 -4,-667 685,-667 685,4 -4,4\"/>\n<!-- 0 -->\n<g id=\"node1\" class=\"node\">\n<title>0</title>\n<path fill=\"#ffffff\" stroke=\"#000000\" d=\"M431,-663C431,-663 312,-663 312,-663 306,-663 300,-657 300,-651 300,-651 300,-592 300,-592 300,-586 306,-580 312,-580 312,-580 431,-580 431,-580 437,-580 443,-586 443,-592 443,-592 443,-651 443,-651 443,-657 437,-663 431,-663\"/>\n<text text-anchor=\"start\" x=\"308\" y=\"-647.8\" font-family=\"Helvetica,sans-Serif\" font-size=\"14.00\" fill=\"#000000\">Age of home ≤ 36.0</text>\n<text text-anchor=\"start\" x=\"333.5\" y=\"-632.8\" font-family=\"Helvetica,sans-Serif\" font-size=\"14.00\" fill=\"#000000\">gini = 0.665</text>\n<text text-anchor=\"start\" x=\"327.5\" y=\"-617.8\" font-family=\"Helvetica,sans-Serif\" font-size=\"14.00\" fill=\"#000000\">samples = 20</text>\n<text text-anchor=\"start\" x=\"322\" y=\"-602.8\" font-family=\"Helvetica,sans-Serif\" font-size=\"14.00\" fill=\"#000000\">value = [7, 6, 7]</text>\n<text text-anchor=\"start\" x=\"313.5\" y=\"-587.8\" font-family=\"Helvetica,sans-Serif\" font-size=\"14.00\" fill=\"#000000\">class = Apartment</text>\n</g>\n<!-- 1 -->\n<g id=\"node2\" class=\"node\">\n<title>1</title>\n<path fill=\"#c09cf2\" stroke=\"#000000\" d=\"M352.5,-544C352.5,-544 236.5,-544 236.5,-544 230.5,-544 224.5,-538 224.5,-532 224.5,-532 224.5,-473 224.5,-473 224.5,-467 230.5,-461 236.5,-461 236.5,-461 352.5,-461 352.5,-461 358.5,-461 364.5,-467 364.5,-473 364.5,-473 364.5,-532 364.5,-532 364.5,-538 358.5,-544 352.5,-544\"/>\n<text text-anchor=\"start\" x=\"232.5\" y=\"-528.8\" font-family=\"Helvetica,sans-Serif\" font-size=\"14.00\" fill=\"#000000\">Local Price ≤ 8.411</text>\n<text text-anchor=\"start\" x=\"261\" y=\"-513.8\" font-family=\"Helvetica,sans-Serif\" font-size=\"14.00\" fill=\"#000000\">gini = 0.56</text>\n<text text-anchor=\"start\" x=\"250.5\" y=\"-498.8\" font-family=\"Helvetica,sans-Serif\" font-size=\"14.00\" fill=\"#000000\">samples = 10</text>\n<text text-anchor=\"start\" x=\"245\" y=\"-483.8\" font-family=\"Helvetica,sans-Serif\" font-size=\"14.00\" fill=\"#000000\">value = [2, 2, 6]</text>\n<text text-anchor=\"start\" x=\"248\" y=\"-468.8\" font-family=\"Helvetica,sans-Serif\" font-size=\"14.00\" fill=\"#000000\">class = House</text>\n</g>\n<!-- 0&#45;&gt;1 -->\n<g id=\"edge1\" class=\"edge\">\n<title>0&#45;&gt;1</title>\n<path fill=\"none\" stroke=\"#000000\" d=\"M344.5691,-579.8796C338.9163,-571.1434 332.8967,-561.8404 327.0634,-552.8253\"/>\n<polygon fill=\"#000000\" stroke=\"#000000\" points=\"329.9169,-550.7924 321.5458,-544.2981 324.0399,-554.5952 329.9169,-550.7924\"/>\n<text text-anchor=\"middle\" x=\"316.3076\" y=\"-565.0431\" font-family=\"Helvetica,sans-Serif\" font-size=\"14.00\" fill=\"#000000\">True</text>\n</g>\n<!-- 10 -->\n<g id=\"node11\" class=\"node\">\n<title>10</title>\n<path fill=\"#fbeade\" stroke=\"#000000\" d=\"M502.5,-544C502.5,-544 394.5,-544 394.5,-544 388.5,-544 382.5,-538 382.5,-532 382.5,-532 382.5,-473 382.5,-473 382.5,-467 388.5,-461 394.5,-461 394.5,-461 502.5,-461 502.5,-461 508.5,-461 514.5,-467 514.5,-473 514.5,-473 514.5,-532 514.5,-532 514.5,-538 508.5,-544 502.5,-544\"/>\n<text text-anchor=\"start\" x=\"390.5\" y=\"-528.8\" font-family=\"Helvetica,sans-Serif\" font-size=\"14.00\" fill=\"#000000\">Local Price ≤ 4.55</text>\n<text text-anchor=\"start\" x=\"415\" y=\"-513.8\" font-family=\"Helvetica,sans-Serif\" font-size=\"14.00\" fill=\"#000000\">gini = 0.58</text>\n<text text-anchor=\"start\" x=\"404.5\" y=\"-498.8\" font-family=\"Helvetica,sans-Serif\" font-size=\"14.00\" fill=\"#000000\">samples = 10</text>\n<text text-anchor=\"start\" x=\"399\" y=\"-483.8\" font-family=\"Helvetica,sans-Serif\" font-size=\"14.00\" fill=\"#000000\">value = [5, 4, 1]</text>\n<text text-anchor=\"start\" x=\"390.5\" y=\"-468.8\" font-family=\"Helvetica,sans-Serif\" font-size=\"14.00\" fill=\"#000000\">class = Apartment</text>\n</g>\n<!-- 0&#45;&gt;10 -->\n<g id=\"edge10\" class=\"edge\">\n<title>0&#45;&gt;10</title>\n<path fill=\"none\" stroke=\"#000000\" d=\"M398.4309,-579.8796C404.0837,-571.1434 410.1033,-561.8404 415.9366,-552.8253\"/>\n<polygon fill=\"#000000\" stroke=\"#000000\" points=\"418.9601,-554.5952 421.4542,-544.2981 413.0831,-550.7924 418.9601,-554.5952\"/>\n<text text-anchor=\"middle\" x=\"426.6924\" y=\"-565.0431\" font-family=\"Helvetica,sans-Serif\" font-size=\"14.00\" fill=\"#000000\">False</text>\n</g>\n<!-- 2 -->\n<g id=\"node3\" class=\"node\">\n<title>2</title>\n<path fill=\"#ab7bee\" stroke=\"#000000\" d=\"M204.5,-425C204.5,-425 96.5,-425 96.5,-425 90.5,-425 84.5,-419 84.5,-413 84.5,-413 84.5,-354 84.5,-354 84.5,-348 90.5,-342 96.5,-342 96.5,-342 204.5,-342 204.5,-342 210.5,-342 216.5,-348 216.5,-354 216.5,-354 216.5,-413 216.5,-413 216.5,-419 210.5,-425 204.5,-425\"/>\n<text text-anchor=\"start\" x=\"92.5\" y=\"-409.8\" font-family=\"Helvetica,sans-Serif\" font-size=\"14.00\" fill=\"#000000\">Local Price ≤ 7.24</text>\n<text text-anchor=\"start\" x=\"112.5\" y=\"-394.8\" font-family=\"Helvetica,sans-Serif\" font-size=\"14.00\" fill=\"#000000\">gini = 0.375</text>\n<text text-anchor=\"start\" x=\"111\" y=\"-379.8\" font-family=\"Helvetica,sans-Serif\" font-size=\"14.00\" fill=\"#000000\">samples = 8</text>\n<text text-anchor=\"start\" x=\"101\" y=\"-364.8\" font-family=\"Helvetica,sans-Serif\" font-size=\"14.00\" fill=\"#000000\">value = [0, 2, 6]</text>\n<text text-anchor=\"start\" x=\"104\" y=\"-349.8\" font-family=\"Helvetica,sans-Serif\" font-size=\"14.00\" fill=\"#000000\">class = House</text>\n</g>\n<!-- 1&#45;&gt;2 -->\n<g id=\"edge2\" class=\"edge\">\n<title>1&#45;&gt;2</title>\n<path fill=\"none\" stroke=\"#000000\" d=\"M244.1358,-460.8796C232.8015,-451.513 220.6785,-441.4948 209.0419,-431.8784\"/>\n<polygon fill=\"#000000\" stroke=\"#000000\" points=\"211.0173,-428.9703 201.0792,-425.2981 206.5581,-434.3663 211.0173,-428.9703\"/>\n</g>\n<!-- 9 -->\n<g id=\"node10\" class=\"node\">\n<title>9</title>\n<path fill=\"#e58139\" stroke=\"#000000\" d=\"M354.5,-417.5C354.5,-417.5 246.5,-417.5 246.5,-417.5 240.5,-417.5 234.5,-411.5 234.5,-405.5 234.5,-405.5 234.5,-361.5 234.5,-361.5 234.5,-355.5 240.5,-349.5 246.5,-349.5 246.5,-349.5 354.5,-349.5 354.5,-349.5 360.5,-349.5 366.5,-355.5 366.5,-361.5 366.5,-361.5 366.5,-405.5 366.5,-405.5 366.5,-411.5 360.5,-417.5 354.5,-417.5\"/>\n<text text-anchor=\"start\" x=\"271\" y=\"-402.3\" font-family=\"Helvetica,sans-Serif\" font-size=\"14.00\" fill=\"#000000\">gini = 0.0</text>\n<text text-anchor=\"start\" x=\"261\" y=\"-387.3\" font-family=\"Helvetica,sans-Serif\" font-size=\"14.00\" fill=\"#000000\">samples = 2</text>\n<text text-anchor=\"start\" x=\"251\" y=\"-372.3\" font-family=\"Helvetica,sans-Serif\" font-size=\"14.00\" fill=\"#000000\">value = [2, 0, 0]</text>\n<text text-anchor=\"start\" x=\"242.5\" y=\"-357.3\" font-family=\"Helvetica,sans-Serif\" font-size=\"14.00\" fill=\"#000000\">class = Apartment</text>\n</g>\n<!-- 1&#45;&gt;9 -->\n<g id=\"edge9\" class=\"edge\">\n<title>1&#45;&gt;9</title>\n<path fill=\"none\" stroke=\"#000000\" d=\"M296.5985,-460.8796C297.1363,-450.2134 297.7167,-438.7021 298.2613,-427.9015\"/>\n<polygon fill=\"#000000\" stroke=\"#000000\" points=\"301.7617,-427.9785 298.7698,-417.8149 294.7706,-427.626 301.7617,-427.9785\"/>\n</g>\n<!-- 3 -->\n<g id=\"node4\" class=\"node\">\n<title>3</title>\n<path fill=\"#965ae9\" stroke=\"#000000\" d=\"M202.5,-306C202.5,-306 98.5,-306 98.5,-306 92.5,-306 86.5,-300 86.5,-294 86.5,-294 86.5,-235 86.5,-235 86.5,-229 92.5,-223 98.5,-223 98.5,-223 202.5,-223 202.5,-223 208.5,-223 214.5,-229 214.5,-235 214.5,-235 214.5,-294 214.5,-294 214.5,-300 208.5,-306 202.5,-306\"/>\n<text text-anchor=\"start\" x=\"94.5\" y=\"-290.8\" font-family=\"Helvetica,sans-Serif\" font-size=\"14.00\" fill=\"#000000\"># Garages ≤ 1.75</text>\n<text text-anchor=\"start\" x=\"112.5\" y=\"-275.8\" font-family=\"Helvetica,sans-Serif\" font-size=\"14.00\" fill=\"#000000\">gini = 0.245</text>\n<text text-anchor=\"start\" x=\"111\" y=\"-260.8\" font-family=\"Helvetica,sans-Serif\" font-size=\"14.00\" fill=\"#000000\">samples = 7</text>\n<text text-anchor=\"start\" x=\"101\" y=\"-245.8\" font-family=\"Helvetica,sans-Serif\" font-size=\"14.00\" fill=\"#000000\">value = [0, 1, 6]</text>\n<text text-anchor=\"start\" x=\"104\" y=\"-230.8\" font-family=\"Helvetica,sans-Serif\" font-size=\"14.00\" fill=\"#000000\">class = House</text>\n</g>\n<!-- 2&#45;&gt;3 -->\n<g id=\"edge3\" class=\"edge\">\n<title>2&#45;&gt;3</title>\n<path fill=\"none\" stroke=\"#000000\" d=\"M150.5,-341.8796C150.5,-333.6838 150.5,-324.9891 150.5,-316.5013\"/>\n<polygon fill=\"#000000\" stroke=\"#000000\" points=\"154.0001,-316.298 150.5,-306.2981 147.0001,-316.2981 154.0001,-316.298\"/>\n</g>\n<!-- 8 -->\n<g id=\"node9\" class=\"node\">\n<title>8</title>\n<path fill=\"#39e581\" stroke=\"#000000\" d=\"M336,-298.5C336,-298.5 245,-298.5 245,-298.5 239,-298.5 233,-292.5 233,-286.5 233,-286.5 233,-242.5 233,-242.5 233,-236.5 239,-230.5 245,-230.5 245,-230.5 336,-230.5 336,-230.5 342,-230.5 348,-236.5 348,-242.5 348,-242.5 348,-286.5 348,-286.5 348,-292.5 342,-298.5 336,-298.5\"/>\n<text text-anchor=\"start\" x=\"261\" y=\"-283.3\" font-family=\"Helvetica,sans-Serif\" font-size=\"14.00\" fill=\"#000000\">gini = 0.0</text>\n<text text-anchor=\"start\" x=\"251\" y=\"-268.3\" font-family=\"Helvetica,sans-Serif\" font-size=\"14.00\" fill=\"#000000\">samples = 1</text>\n<text text-anchor=\"start\" x=\"241\" y=\"-253.3\" font-family=\"Helvetica,sans-Serif\" font-size=\"14.00\" fill=\"#000000\">value = [0, 1, 0]</text>\n<text text-anchor=\"start\" x=\"243.5\" y=\"-238.3\" font-family=\"Helvetica,sans-Serif\" font-size=\"14.00\" fill=\"#000000\">class = Condo</text>\n</g>\n<!-- 2&#45;&gt;8 -->\n<g id=\"edge8\" class=\"edge\">\n<title>2&#45;&gt;8</title>\n<path fill=\"none\" stroke=\"#000000\" d=\"M199.4652,-341.8796C213.3073,-330.1138 228.3592,-317.3197 242.1641,-305.5855\"/>\n<polygon fill=\"#000000\" stroke=\"#000000\" points=\"244.7769,-307.9582 250.1295,-298.8149 240.2433,-302.6247 244.7769,-307.9582\"/>\n</g>\n<!-- 4 -->\n<g id=\"node5\" class=\"node\">\n<title>4</title>\n<path fill=\"#8139e5\" stroke=\"#000000\" d=\"M103,-179.5C103,-179.5 12,-179.5 12,-179.5 6,-179.5 0,-173.5 0,-167.5 0,-167.5 0,-123.5 0,-123.5 0,-117.5 6,-111.5 12,-111.5 12,-111.5 103,-111.5 103,-111.5 109,-111.5 115,-117.5 115,-123.5 115,-123.5 115,-167.5 115,-167.5 115,-173.5 109,-179.5 103,-179.5\"/>\n<text text-anchor=\"start\" x=\"28\" y=\"-164.3\" font-family=\"Helvetica,sans-Serif\" font-size=\"14.00\" fill=\"#000000\">gini = 0.0</text>\n<text text-anchor=\"start\" x=\"18\" y=\"-149.3\" font-family=\"Helvetica,sans-Serif\" font-size=\"14.00\" fill=\"#000000\">samples = 5</text>\n<text text-anchor=\"start\" x=\"8\" y=\"-134.3\" font-family=\"Helvetica,sans-Serif\" font-size=\"14.00\" fill=\"#000000\">value = [0, 0, 5]</text>\n<text text-anchor=\"start\" x=\"11\" y=\"-119.3\" font-family=\"Helvetica,sans-Serif\" font-size=\"14.00\" fill=\"#000000\">class = House</text>\n</g>\n<!-- 3&#45;&gt;4 -->\n<g id=\"edge4\" class=\"edge\">\n<title>3&#45;&gt;4</title>\n<path fill=\"none\" stroke=\"#000000\" d=\"M117.9731,-222.8796C109.1217,-211.5536 99.5257,-199.2748 90.6407,-187.9058\"/>\n<polygon fill=\"#000000\" stroke=\"#000000\" points=\"93.2331,-185.539 84.3176,-179.8149 87.7176,-189.8494 93.2331,-185.539\"/>\n</g>\n<!-- 5 -->\n<g id=\"node6\" class=\"node\">\n<title>5</title>\n<path fill=\"#ffffff\" stroke=\"#000000\" d=\"M261.5,-187C261.5,-187 145.5,-187 145.5,-187 139.5,-187 133.5,-181 133.5,-175 133.5,-175 133.5,-116 133.5,-116 133.5,-110 139.5,-104 145.5,-104 145.5,-104 261.5,-104 261.5,-104 267.5,-104 273.5,-110 273.5,-116 273.5,-116 273.5,-175 273.5,-175 273.5,-181 267.5,-187 261.5,-187\"/>\n<text text-anchor=\"start\" x=\"141.5\" y=\"-171.8\" font-family=\"Helvetica,sans-Serif\" font-size=\"14.00\" fill=\"#000000\">Local Price ≤ 5.894</text>\n<text text-anchor=\"start\" x=\"174\" y=\"-156.8\" font-family=\"Helvetica,sans-Serif\" font-size=\"14.00\" fill=\"#000000\">gini = 0.5</text>\n<text text-anchor=\"start\" x=\"164\" y=\"-141.8\" font-family=\"Helvetica,sans-Serif\" font-size=\"14.00\" fill=\"#000000\">samples = 2</text>\n<text text-anchor=\"start\" x=\"154\" y=\"-126.8\" font-family=\"Helvetica,sans-Serif\" font-size=\"14.00\" fill=\"#000000\">value = [0, 1, 1]</text>\n<text text-anchor=\"start\" x=\"156.5\" y=\"-111.8\" font-family=\"Helvetica,sans-Serif\" font-size=\"14.00\" fill=\"#000000\">class = Condo</text>\n</g>\n<!-- 3&#45;&gt;5 -->\n<g id=\"edge5\" class=\"edge\">\n<title>3&#45;&gt;5</title>\n<path fill=\"none\" stroke=\"#000000\" d=\"M169.0368,-222.8796C172.8074,-214.4136 176.815,-205.4153 180.7133,-196.6626\"/>\n<polygon fill=\"#000000\" stroke=\"#000000\" points=\"184.0127,-197.857 184.8841,-187.2981 177.6183,-195.009 184.0127,-197.857\"/>\n</g>\n<!-- 6 -->\n<g id=\"node7\" class=\"node\">\n<title>6</title>\n<path fill=\"#8139e5\" stroke=\"#000000\" d=\"M183,-68C183,-68 92,-68 92,-68 86,-68 80,-62 80,-56 80,-56 80,-12 80,-12 80,-6 86,0 92,0 92,0 183,0 183,0 189,0 195,-6 195,-12 195,-12 195,-56 195,-56 195,-62 189,-68 183,-68\"/>\n<text text-anchor=\"start\" x=\"108\" y=\"-52.8\" font-family=\"Helvetica,sans-Serif\" font-size=\"14.00\" fill=\"#000000\">gini = 0.0</text>\n<text text-anchor=\"start\" x=\"98\" y=\"-37.8\" font-family=\"Helvetica,sans-Serif\" font-size=\"14.00\" fill=\"#000000\">samples = 1</text>\n<text text-anchor=\"start\" x=\"88\" y=\"-22.8\" font-family=\"Helvetica,sans-Serif\" font-size=\"14.00\" fill=\"#000000\">value = [0, 0, 1]</text>\n<text text-anchor=\"start\" x=\"91\" y=\"-7.8\" font-family=\"Helvetica,sans-Serif\" font-size=\"14.00\" fill=\"#000000\">class = House</text>\n</g>\n<!-- 5&#45;&gt;6 -->\n<g id=\"edge6\" class=\"edge\">\n<title>5&#45;&gt;6</title>\n<path fill=\"none\" stroke=\"#000000\" d=\"M178.924,-103.9815C173.7014,-95.1585 168.1771,-85.8258 162.9237,-76.9506\"/>\n<polygon fill=\"#000000\" stroke=\"#000000\" points=\"165.8874,-75.0863 157.7816,-68.2637 159.8636,-78.652 165.8874,-75.0863\"/>\n</g>\n<!-- 7 -->\n<g id=\"node8\" class=\"node\">\n<title>7</title>\n<path fill=\"#39e581\" stroke=\"#000000\" d=\"M316,-68C316,-68 225,-68 225,-68 219,-68 213,-62 213,-56 213,-56 213,-12 213,-12 213,-6 219,0 225,0 225,0 316,0 316,0 322,0 328,-6 328,-12 328,-12 328,-56 328,-56 328,-62 322,-68 316,-68\"/>\n<text text-anchor=\"start\" x=\"241\" y=\"-52.8\" font-family=\"Helvetica,sans-Serif\" font-size=\"14.00\" fill=\"#000000\">gini = 0.0</text>\n<text text-anchor=\"start\" x=\"231\" y=\"-37.8\" font-family=\"Helvetica,sans-Serif\" font-size=\"14.00\" fill=\"#000000\">samples = 1</text>\n<text text-anchor=\"start\" x=\"221\" y=\"-22.8\" font-family=\"Helvetica,sans-Serif\" font-size=\"14.00\" fill=\"#000000\">value = [0, 1, 0]</text>\n<text text-anchor=\"start\" x=\"223.5\" y=\"-7.8\" font-family=\"Helvetica,sans-Serif\" font-size=\"14.00\" fill=\"#000000\">class = Condo</text>\n</g>\n<!-- 5&#45;&gt;7 -->\n<g id=\"edge7\" class=\"edge\">\n<title>5&#45;&gt;7</title>\n<path fill=\"none\" stroke=\"#000000\" d=\"M228.4483,-103.9815C233.7501,-95.1585 239.3581,-85.8258 244.6911,-76.9506\"/>\n<polygon fill=\"#000000\" stroke=\"#000000\" points=\"247.7605,-78.638 249.9111,-68.2637 241.7604,-75.0325 247.7605,-78.638\"/>\n</g>\n<!-- 11 -->\n<g id=\"node12\" class=\"node\">\n<title>11</title>\n<path fill=\"#39e581\" stroke=\"#000000\" d=\"M488,-417.5C488,-417.5 397,-417.5 397,-417.5 391,-417.5 385,-411.5 385,-405.5 385,-405.5 385,-361.5 385,-361.5 385,-355.5 391,-349.5 397,-349.5 397,-349.5 488,-349.5 488,-349.5 494,-349.5 500,-355.5 500,-361.5 500,-361.5 500,-405.5 500,-405.5 500,-411.5 494,-417.5 488,-417.5\"/>\n<text text-anchor=\"start\" x=\"413\" y=\"-402.3\" font-family=\"Helvetica,sans-Serif\" font-size=\"14.00\" fill=\"#000000\">gini = 0.0</text>\n<text text-anchor=\"start\" x=\"403\" y=\"-387.3\" font-family=\"Helvetica,sans-Serif\" font-size=\"14.00\" fill=\"#000000\">samples = 2</text>\n<text text-anchor=\"start\" x=\"393\" y=\"-372.3\" font-family=\"Helvetica,sans-Serif\" font-size=\"14.00\" fill=\"#000000\">value = [0, 2, 0]</text>\n<text text-anchor=\"start\" x=\"395.5\" y=\"-357.3\" font-family=\"Helvetica,sans-Serif\" font-size=\"14.00\" fill=\"#000000\">class = Condo</text>\n</g>\n<!-- 10&#45;&gt;11 -->\n<g id=\"edge11\" class=\"edge\">\n<title>10&#45;&gt;11</title>\n<path fill=\"none\" stroke=\"#000000\" d=\"M446.4015,-460.8796C445.8637,-450.2134 445.2833,-438.7021 444.7387,-427.9015\"/>\n<polygon fill=\"#000000\" stroke=\"#000000\" points=\"448.2294,-427.626 444.2302,-417.8149 441.2383,-427.9785 448.2294,-427.626\"/>\n</g>\n<!-- 12 -->\n<g id=\"node13\" class=\"node\">\n<title>12</title>\n<path fill=\"#f2c09c\" stroke=\"#000000\" d=\"M638.5,-425C638.5,-425 530.5,-425 530.5,-425 524.5,-425 518.5,-419 518.5,-413 518.5,-413 518.5,-354 518.5,-354 518.5,-348 524.5,-342 530.5,-342 530.5,-342 638.5,-342 638.5,-342 644.5,-342 650.5,-348 650.5,-354 650.5,-354 650.5,-413 650.5,-413 650.5,-419 644.5,-425 638.5,-425\"/>\n<text text-anchor=\"start\" x=\"533\" y=\"-409.8\" font-family=\"Helvetica,sans-Serif\" font-size=\"14.00\" fill=\"#000000\">Land Area ≤ 5.5</text>\n<text text-anchor=\"start\" x=\"546.5\" y=\"-394.8\" font-family=\"Helvetica,sans-Serif\" font-size=\"14.00\" fill=\"#000000\">gini = 0.531</text>\n<text text-anchor=\"start\" x=\"545\" y=\"-379.8\" font-family=\"Helvetica,sans-Serif\" font-size=\"14.00\" fill=\"#000000\">samples = 8</text>\n<text text-anchor=\"start\" x=\"535\" y=\"-364.8\" font-family=\"Helvetica,sans-Serif\" font-size=\"14.00\" fill=\"#000000\">value = [5, 2, 1]</text>\n<text text-anchor=\"start\" x=\"526.5\" y=\"-349.8\" font-family=\"Helvetica,sans-Serif\" font-size=\"14.00\" fill=\"#000000\">class = Apartment</text>\n</g>\n<!-- 10&#45;&gt;12 -->\n<g id=\"edge12\" class=\"edge\">\n<title>10&#45;&gt;12</title>\n<path fill=\"none\" stroke=\"#000000\" d=\"M496.0662,-460.8796C506.6679,-451.6031 518.0002,-441.6874 528.8933,-432.1559\"/>\n<polygon fill=\"#000000\" stroke=\"#000000\" points=\"531.5098,-434.5172 536.7308,-425.2981 526.9002,-429.2491 531.5098,-434.5172\"/>\n</g>\n<!-- 13 -->\n<g id=\"node14\" class=\"node\">\n<title>13</title>\n<path fill=\"#ea9a61\" stroke=\"#000000\" d=\"M536,-306C536,-306 417,-306 417,-306 411,-306 405,-300 405,-294 405,-294 405,-235 405,-235 405,-229 411,-223 417,-223 417,-223 536,-223 536,-223 542,-223 548,-229 548,-235 548,-235 548,-294 548,-294 548,-300 542,-306 536,-306\"/>\n<text text-anchor=\"start\" x=\"413\" y=\"-290.8\" font-family=\"Helvetica,sans-Serif\" font-size=\"14.00\" fill=\"#000000\">Age of home ≤ 58.0</text>\n<text text-anchor=\"start\" x=\"438.5\" y=\"-275.8\" font-family=\"Helvetica,sans-Serif\" font-size=\"14.00\" fill=\"#000000\">gini = 0.278</text>\n<text text-anchor=\"start\" x=\"437\" y=\"-260.8\" font-family=\"Helvetica,sans-Serif\" font-size=\"14.00\" fill=\"#000000\">samples = 6</text>\n<text text-anchor=\"start\" x=\"427\" y=\"-245.8\" font-family=\"Helvetica,sans-Serif\" font-size=\"14.00\" fill=\"#000000\">value = [5, 0, 1]</text>\n<text text-anchor=\"start\" x=\"418.5\" y=\"-230.8\" font-family=\"Helvetica,sans-Serif\" font-size=\"14.00\" fill=\"#000000\">class = Apartment</text>\n</g>\n<!-- 12&#45;&gt;13 -->\n<g id=\"edge13\" class=\"edge\">\n<title>12&#45;&gt;13</title>\n<path fill=\"none\" stroke=\"#000000\" d=\"M546.7268,-341.8796C538.4713,-332.7832 529.658,-323.0722 521.1626,-313.7116\"/>\n<polygon fill=\"#000000\" stroke=\"#000000\" points=\"523.7467,-311.3509 514.4344,-306.2981 518.5632,-316.0553 523.7467,-311.3509\"/>\n</g>\n<!-- 16 -->\n<g id=\"node17\" class=\"node\">\n<title>16</title>\n<path fill=\"#39e581\" stroke=\"#000000\" d=\"M669,-298.5C669,-298.5 578,-298.5 578,-298.5 572,-298.5 566,-292.5 566,-286.5 566,-286.5 566,-242.5 566,-242.5 566,-236.5 572,-230.5 578,-230.5 578,-230.5 669,-230.5 669,-230.5 675,-230.5 681,-236.5 681,-242.5 681,-242.5 681,-286.5 681,-286.5 681,-292.5 675,-298.5 669,-298.5\"/>\n<text text-anchor=\"start\" x=\"594\" y=\"-283.3\" font-family=\"Helvetica,sans-Serif\" font-size=\"14.00\" fill=\"#000000\">gini = 0.0</text>\n<text text-anchor=\"start\" x=\"584\" y=\"-268.3\" font-family=\"Helvetica,sans-Serif\" font-size=\"14.00\" fill=\"#000000\">samples = 2</text>\n<text text-anchor=\"start\" x=\"574\" y=\"-253.3\" font-family=\"Helvetica,sans-Serif\" font-size=\"14.00\" fill=\"#000000\">value = [0, 2, 0]</text>\n<text text-anchor=\"start\" x=\"576.5\" y=\"-238.3\" font-family=\"Helvetica,sans-Serif\" font-size=\"14.00\" fill=\"#000000\">class = Condo</text>\n</g>\n<!-- 12&#45;&gt;16 -->\n<g id=\"edge16\" class=\"edge\">\n<title>12&#45;&gt;16</title>\n<path fill=\"none\" stroke=\"#000000\" d=\"M598.1403,-341.8796C601.672,-331.1034 605.4864,-319.4647 609.0576,-308.5677\"/>\n<polygon fill=\"#000000\" stroke=\"#000000\" points=\"612.4655,-309.4077 612.2539,-298.8149 605.8136,-307.2276 612.4655,-309.4077\"/>\n</g>\n<!-- 14 -->\n<g id=\"node15\" class=\"node\">\n<title>14</title>\n<path fill=\"#e58139\" stroke=\"#000000\" d=\"M477.5,-179.5C477.5,-179.5 369.5,-179.5 369.5,-179.5 363.5,-179.5 357.5,-173.5 357.5,-167.5 357.5,-167.5 357.5,-123.5 357.5,-123.5 357.5,-117.5 363.5,-111.5 369.5,-111.5 369.5,-111.5 477.5,-111.5 477.5,-111.5 483.5,-111.5 489.5,-117.5 489.5,-123.5 489.5,-123.5 489.5,-167.5 489.5,-167.5 489.5,-173.5 483.5,-179.5 477.5,-179.5\"/>\n<text text-anchor=\"start\" x=\"394\" y=\"-164.3\" font-family=\"Helvetica,sans-Serif\" font-size=\"14.00\" fill=\"#000000\">gini = 0.0</text>\n<text text-anchor=\"start\" x=\"384\" y=\"-149.3\" font-family=\"Helvetica,sans-Serif\" font-size=\"14.00\" fill=\"#000000\">samples = 5</text>\n<text text-anchor=\"start\" x=\"374\" y=\"-134.3\" font-family=\"Helvetica,sans-Serif\" font-size=\"14.00\" fill=\"#000000\">value = [5, 0, 0]</text>\n<text text-anchor=\"start\" x=\"365.5\" y=\"-119.3\" font-family=\"Helvetica,sans-Serif\" font-size=\"14.00\" fill=\"#000000\">class = Apartment</text>\n</g>\n<!-- 13&#45;&gt;14 -->\n<g id=\"edge14\" class=\"edge\">\n<title>13&#45;&gt;14</title>\n<path fill=\"none\" stroke=\"#000000\" d=\"M457.9632,-222.8796C453.1147,-211.9935 447.8742,-200.227 442.9783,-189.2344\"/>\n<polygon fill=\"#000000\" stroke=\"#000000\" points=\"446.0489,-187.5259 438.7831,-179.8149 439.6545,-190.3739 446.0489,-187.5259\"/>\n</g>\n<!-- 15 -->\n<g id=\"node16\" class=\"node\">\n<title>15</title>\n<path fill=\"#8139e5\" stroke=\"#000000\" d=\"M611,-179.5C611,-179.5 520,-179.5 520,-179.5 514,-179.5 508,-173.5 508,-167.5 508,-167.5 508,-123.5 508,-123.5 508,-117.5 514,-111.5 520,-111.5 520,-111.5 611,-111.5 611,-111.5 617,-111.5 623,-117.5 623,-123.5 623,-123.5 623,-167.5 623,-167.5 623,-173.5 617,-179.5 611,-179.5\"/>\n<text text-anchor=\"start\" x=\"536\" y=\"-164.3\" font-family=\"Helvetica,sans-Serif\" font-size=\"14.00\" fill=\"#000000\">gini = 0.0</text>\n<text text-anchor=\"start\" x=\"526\" y=\"-149.3\" font-family=\"Helvetica,sans-Serif\" font-size=\"14.00\" fill=\"#000000\">samples = 1</text>\n<text text-anchor=\"start\" x=\"516\" y=\"-134.3\" font-family=\"Helvetica,sans-Serif\" font-size=\"14.00\" fill=\"#000000\">value = [0, 0, 1]</text>\n<text text-anchor=\"start\" x=\"519\" y=\"-119.3\" font-family=\"Helvetica,sans-Serif\" font-size=\"14.00\" fill=\"#000000\">class = House</text>\n</g>\n<!-- 13&#45;&gt;15 -->\n<g id=\"edge15\" class=\"edge\">\n<title>13&#45;&gt;15</title>\n<path fill=\"none\" stroke=\"#000000\" d=\"M507.6279,-222.8796C516.0986,-211.5536 525.2819,-199.2748 533.7847,-187.9058\"/>\n<polygon fill=\"#000000\" stroke=\"#000000\" points=\"536.6495,-189.9193 539.8359,-179.8149 531.0438,-185.7268 536.6495,-189.9193\"/>\n</g>\n</g>\n</svg>\n"
          },
          "metadata": {},
          "execution_count": 35
        }
      ]
    },
    {
      "cell_type": "markdown",
      "source": [
        "Question 3\n"
      ],
      "metadata": {
        "id": "5wbzPrXhNm0d"
      }
    },
    {
      "cell_type": "code",
      "source": [
        "accuracy_list = []\n",
        "# ranging k of 1-5\n",
        "numberOfNeighbers = 5\n",
        "# iterate to test the effect of k value on the result.\n",
        "for i in range(1, numberOfNeighbers+1):\n",
        "  # knn classifier that uses Euclidean metric as required.\n",
        "  neigh = KNeighborsClassifier(n_neighbors=i, metric='euclidean')\n",
        "  neigh.fit(X_df_train, Y_df_train.values.ravel())\n",
        "\n",
        "  predn = neigh.predict(X_df_test)\n",
        "  print(predn)\n",
        "  accuracy_test_knn = metrics.accuracy_score(Y_df_test, predn)\n",
        "  print(f\"Accuracy of test of K={i}: {accuracy_test_knn}\")\n",
        "  accuracy_list.append(accuracy_test_knn)\n",
        "  # plot the result.\n",
        "  plt.plot(range(1, i+1), accuracy_list,'bo--')\n",
        "  plt.ylabel('Accuracy')\n",
        "  plt.xlabel('K')\n",
        "  plt.title('Accuracy vs K')\n",
        "  plt.grid()\n",
        "  plt.show()\n"
      ],
      "metadata": {
        "colab": {
          "base_uri": "https://localhost:8080/",
          "height": 1000
        },
        "id": "DHbSGa9ANlfN",
        "outputId": "645e40b5-1689-4984-ad00-730ef66d0508"
      },
      "execution_count": 39,
      "outputs": [
        {
          "output_type": "stream",
          "name": "stdout",
          "text": [
            "['Apartment' 'Apartment' 'Condo' 'Apartment' 'Apartment']\n",
            "Accuracy of test of K=1: 0.6\n"
          ]
        },
        {
          "output_type": "display_data",
          "data": {
            "text/plain": [
              "<Figure size 432x288 with 1 Axes>"
            ],
            "image/png": "[encoded data removed]"
          },
          "metadata": {
            "needs_background": "light"
          }
        },
        {
          "output_type": "stream",
          "name": "stdout",
          "text": [
            "['Apartment' 'Apartment' 'Condo' 'Apartment' 'Apartment']\n",
            "Accuracy of test of K=2: 0.6\n"
          ]
        },
        {
          "output_type": "display_data",
          "data": {
            "text/plain": [
              "<Figure size 432x288 with 1 Axes>"
            ],
            "image/png": "[encoded data removed]"
          },
          "metadata": {
            "needs_background": "light"
          }
        },
        {
          "output_type": "stream",
          "name": "stdout",
          "text": [
            "['Apartment' 'Apartment' 'Apartment' 'House' 'House']\n",
            "Accuracy of test of K=3: 0.2\n"
          ]
        },
        {
          "output_type": "display_data",
          "data": {
            "text/plain": [
              "<Figure size 432x288 with 1 Axes>"
            ],
            "image/png": "[encoded data removed]"
          },
          "metadata": {
            "needs_background": "light"
          }
        },
        {
          "output_type": "stream",
          "name": "stdout",
          "text": [
            "['Apartment' 'Apartment' 'Apartment' 'House' 'House']\n",
            "Accuracy of test of K=4: 0.2\n"
          ]
        },
        {
          "output_type": "display_data",
          "data": {
            "text/plain": [
              "<Figure size 432x288 with 1 Axes>"
            ],
            "image/png": "[encoded data removed]"
          },
          "metadata": {
            "needs_background": "light"
          }
        },
        {
          "output_type": "stream",
          "name": "stdout",
          "text": [
            "['Apartment' 'Apartment' 'Apartment' 'House' 'House']\n",
            "Accuracy of test of K=5: 0.2\n"
          ]
        },
        {
          "output_type": "display_data",
          "data": {
            "text/plain": [
              "<Figure size 432x288 with 1 Axes>"
            ],
            "image/png": "[encoded data removed]"
          },
          "metadata": {
            "needs_background": "light"
          }
        }
      ]
    }
  ]
}