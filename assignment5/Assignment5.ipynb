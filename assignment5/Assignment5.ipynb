{
  "nbformat": 4,
  "nbformat_minor": 0,
  "metadata": {
    "colab": {
      "provenance": []
    },
    "kernelspec": {
      "name": "python3",
      "display_name": "Python 3"
    },
    "language_info": {
      "name": "python"
    }
  },
  "cells": [
    {
      "cell_type": "code",
      "source": [
        "import numpy as np\n",
        "import matplotlib.pyplot as plt\n",
        "import cv2\n",
        "from google.colab.patches import cv2_imshow\n",
        "import random\n",
        "import copy"
      ],
      "metadata": {
        "id": "lqF8geulcrMA"
      },
      "execution_count": 1,
      "outputs": []
    },
    {
      "cell_type": "code",
      "source": [
        "from google.colab import drive\n",
        "drive.mount('/content/drive')"
      ],
      "metadata": {
        "colab": {
          "base_uri": "https://localhost:8080/"
        },
        "id": "A6xb8hbscqJB",
        "outputId": "29fd3a5a-ea57-4eb5-e136-4b11308cee71"
      },
      "execution_count": 2,
      "outputs": [
        {
          "output_type": "stream",
          "name": "stdout",
          "text": [
            "Mounted at /content/drive\n"
          ]
        }
      ]
    },
    {
      "cell_type": "code",
      "source": [
        "# input file directory\n",
        "# dir = '/content/drive/MyDrive/Colab Notebooks/ML Assignments/Assignment5'\n",
        "dir = '/content/drive/MyDrive'"
      ],
      "metadata": {
        "id": "iulFxbdyOVhp"
      },
      "execution_count": 4,
      "outputs": []
    },
    {
      "cell_type": "code",
      "source": [
        "# input file name\n",
        "imageFile = \"input.png\" # 128 * 128 img\n",
        "# read the image file with cv2 library\n",
        "img = cv2.imread(dir + \"/\" + imageFile)"
      ],
      "metadata": {
        "id": "5z9O0QequN-W"
      },
      "execution_count": 5,
      "outputs": []
    },
    {
      "cell_type": "code",
      "source": [
        "# Take the K as input parameter\n",
        "k = int(input(\"Enter the number of clusters k: \"))"
      ],
      "metadata": {
        "colab": {
          "base_uri": "https://localhost:8080/"
        },
        "id": "Bp8LVky-O6U4",
        "outputId": "c9a06c60-ae87-46c3-ca7f-e651ad333b9a"
      },
      "execution_count": 6,
      "outputs": [
        {
          "name": "stdout",
          "output_type": "stream",
          "text": [
            "Enter the number of clusters k: 3\n"
          ]
        }
      ]
    },
    {
      "cell_type": "code",
      "source": [
        "# function to assign random k centroids\n",
        "def random_K_centroids(data, k):\n",
        "  height, width, channels = np.shape(data)\n",
        "  centroids = []\n",
        "  # select indexes without repetation\n",
        "  height_sample = random.sample(range(height), k)\n",
        "  width_sample = random.sample(range(width), k)\n",
        "  for i in range(k):\n",
        "    centroids.append(data[height_sample[i]][width_sample[i]])\n",
        "  print(f\"random centroids are: {centroids}\")\n",
        "  return centroids\n",
        "\n",
        "# function to form k clusters based on minimum euclidean distance\n",
        "def clustering(data, centroids):\n",
        "  height, width, channels = np.shape(data)\n",
        "  cluster = np.zeros((height, width))\n",
        "  for h in range(height):\n",
        "    for w in range(width):\n",
        "      near_index = 0\n",
        "      min_distance = None\n",
        "      for index, j in enumerate(centroids):\n",
        "        euclidean_dist = np.linalg.norm(data[h][w] - j)\n",
        "        if min_distance == None:\n",
        "          min_distance = euclidean_dist\n",
        "          near_index = index\n",
        "        elif min_distance > euclidean_dist:\n",
        "          min_distance = euclidean_dist\n",
        "          near_index = index\n",
        "      cluster[h][w] = near_index\n",
        "  return cluster\n",
        "\n",
        "# Function to decides next centroids based on mean distance from each cluster\n",
        "def next_center(data, centroids, clusters):\n",
        "  height, width, channels = np.shape(data)\n",
        "  new_centroids = []\n",
        "  for index, i in enumerate(centroids):\n",
        "    number_points = 0\n",
        "    added_points = 0\n",
        "    for h in range(height):\n",
        "      for w in range(width):\n",
        "        if int(clusters[h][w]) == index:\n",
        "          number_points += 1\n",
        "          added_points = np.add(added_points, data[h][w].astype('uint64'))\n",
        "    new_centroid = 0\n",
        "    if number_points == 0:\n",
        "      new_centroid = i\n",
        "    else:\n",
        "      new_centroid = added_points/number_points\n",
        "    new_centroids.append(new_centroid)\n",
        "  return new_centroids"
      ],
      "metadata": {
        "id": "ZztwMICbXVQH"
      },
      "execution_count": 9,
      "outputs": []
    },
    {
      "cell_type": "code",
      "source": [
        "# initialize with k random centroids\n",
        "K_centroids = random_K_centroids(img, k)\n",
        "# set epoch as 100 for maximum threshold\n",
        "epoch = 100\n",
        "for i in range(epoch):\n",
        "  # detect clusters\n",
        "  cluters = clustering(img, K_centroids)\n",
        "  # find next centroid points\n",
        "  new_K_centroids = next_center(img, K_centroids, cluters)\n",
        "  # difference between previous centroid points and currently updated centroid points\n",
        "  diff = np.linalg.norm(np.array(K_centroids) - np.array(new_K_centroids))\n",
        "  # update the centroid points\n",
        "  K_centroids = new_K_centroids\n",
        "  print(\"Current Centroids: \")\n",
        "  print(K_centroids)\n",
        "  print(f\"Difference between previous centroids: {diff}\\n\")\n",
        "  # if the difference is small enough, escape the loop\n",
        "  if diff < 0.2:\n",
        "    break"
      ],
      "metadata": {
        "colab": {
          "base_uri": "https://localhost:8080/"
        },
        "id": "Ov6SjZ4acWn-",
        "outputId": "c5a403bd-59ad-4418-8cb0-239983c35a34"
      },
      "execution_count": 17,
      "outputs": [
        {
          "output_type": "stream",
          "name": "stdout",
          "text": [
            "random centroids are: [array([25, 27, 27], dtype=uint8), array([18, 22, 21], dtype=uint8), array([40, 47, 40], dtype=uint8)]\n",
            "Current Centroids: \n",
            "[array([34.96612595, 47.92127863, 56.04389313]), array([21.80720339, 26.61917373, 26.32891949]), array([111.41169355, 142.91653226, 165.35967742])]\n",
            "Difference between previous centroids: 177.36814849091357\n",
            "\n",
            "Current Centroids: \n",
            "[array([54.92150651, 62.27103133, 71.8905315 ]), array([22.8       , 25.28382749, 23.39110512]), array([127.66663277, 168.02094986, 195.93359097])]\n",
            "Difference between previous centroids: 51.921740470553594\n",
            "\n",
            "Current Centroids: \n",
            "[array([65.2384816 , 78.4308896 , 94.03013619]), array([24.79886013, 27.23771076, 25.44502493]), array([133.73079569, 176.27860582, 204.76840174])]\n",
            "Difference between previous centroids: 32.44675043249665\n",
            "\n",
            "Current Centroids: \n",
            "[array([ 72.24885042,  91.24695699, 112.10873681]), array([27.24783983, 29.62339305, 28.22423604]), array([138.4501385 , 181.93931   , 210.17967766])]\n",
            "Difference between previous centroids: 25.362242137299717\n",
            "\n",
            "Current Centroids: \n",
            "[array([ 76.90137328, 100.75780275, 125.16853933]), array([29.12617739, 31.45663265, 30.49921507]), array([142.73637237, 186.60263628, 214.32280654])]\n",
            "Difference between previous centroids: 18.761902257147472\n",
            "\n",
            "Current Centroids: \n",
            "[array([ 80.18095459, 107.62465246, 134.52455978]), array([30.44277674, 32.84108818, 32.24934334]), array([146.57836153, 190.4591867 , 217.4443455 ])]\n",
            "Difference between previous centroids: 13.839630213475592\n",
            "\n",
            "Current Centroids: \n",
            "[array([ 82.16189018, 112.48479545, 141.02384599]), array([31.38833181, 33.7881495 , 33.50847767]), array([149.84813527, 193.32632743, 219.53587231])]\n",
            "Difference between previous centroids: 9.82082666715924\n",
            "\n",
            "Current Centroids: \n",
            "[array([ 83.79701931, 116.08144416, 145.81087322]), array([32.11432138, 34.5682183 , 34.57731407]), array([152.45168801, 195.58107434, 221.04091136])]\n",
            "Difference between previous centroids: 7.411521531303081\n",
            "\n",
            "Current Centroids: \n",
            "[array([ 84.85294118, 118.6326572 , 149.16044625]), array([32.49137324, 35.01848592, 35.29330986]), array([154.67440249, 197.28108763, 221.99688258])]\n",
            "Difference between previous centroids: 5.3334082242620315\n",
            "\n",
            "Current Centroids: \n",
            "[array([ 85.79837108, 120.60568137, 151.67024235]), array([32.93914102, 35.52043123, 35.92766475]), array([156.21075192, 198.51009109, 222.80925165])]\n",
            "Difference between previous centroids: 4.058491384544056\n",
            "\n",
            "Current Centroids: \n",
            "[array([ 86.77793049, 122.19968584, 153.46436285]), array([33.2890531 , 35.98711119, 36.59185427]), array([157.21801901, 199.39565058, 223.52247807])]\n",
            "Difference between previous centroids: 3.131792805673895\n",
            "\n",
            "Current Centroids: \n",
            "[array([ 87.44593023, 123.39437984, 154.83255814]), array([33.54385666, 36.26365188, 36.97952218]), array([158.12416107, 200.15753169, 224.08668904])]\n",
            "Difference between previous centroids: 2.3993857670289174\n",
            "\n",
            "Current Centroids: \n",
            "[array([ 87.96187175, 124.38994801, 156.01444252]), array([33.74407182, 36.56317751, 37.43157182]), array([158.87176092, 200.68829204, 224.4104407 ])]\n",
            "Difference between previous centroids: 1.9833759356210605\n",
            "\n",
            "Current Centroids: \n",
            "[array([ 88.3211623 , 125.05390939, 156.81666985]), array([33.85000844, 36.72532478, 37.66475451]), array([159.4582855 , 201.11691542, 224.66322235])]\n",
            "Difference between previous centroids: 1.3773232113428715\n",
            "\n",
            "Current Centroids: \n",
            "[array([ 88.48642491, 125.5936966 , 157.55363585]), array([33.95540973, 36.83543665, 37.81574962]), array([160.05237727, 201.47854658, 224.78991109])]\n",
            "Difference between previous centroids: 1.1864259722904915\n",
            "\n",
            "Current Centroids: \n",
            "[array([ 88.65753166, 126.00926101, 158.08372708]), array([34.03239886, 36.92932684, 37.95736109]), array([160.46495327, 201.74493769, 224.90342679])]\n",
            "Difference between previous centroids: 0.878540559697542\n",
            "\n",
            "Current Centroids: \n",
            "[array([ 88.86432066, 126.44241626, 158.57527286]), array([34.12006028, 37.02980576, 38.10733423]), array([160.84268341, 202.00235386, 225.06688898])]\n",
            "Difference between previous centroids: 0.8648340429735923\n",
            "\n",
            "Current Centroids: \n",
            "[array([ 89.03295263, 126.77513574, 158.97079199]), array([34.1673913 , 37.08561873, 38.18561873]), array([161.1929686 , 202.24906182, 225.20718941])]\n",
            "Difference between previous centroids: 0.7143576775148366\n",
            "\n",
            "Current Centroids: \n",
            "[array([ 89.15624417, 126.96415904, 159.19432518]), array([34.20167084, 37.12581454, 38.22873851]), array([161.37623959, 202.40380801, 225.31416105])]\n",
            "Difference between previous centroids: 0.4177623453086002\n",
            "\n",
            "Current Centroids: \n",
            "[array([ 89.35349963, 127.19061802, 159.42460908]), array([34.2399466 , 37.18454864, 38.30952778]), array([161.53795577, 202.58019526, 225.4670253 ])]\n",
            "Difference between previous centroids: 0.4850750036437414\n",
            "\n",
            "Current Centroids: \n",
            "[array([ 89.47521812, 127.35214405, 159.61815482]), array([34.25779556, 37.21777555, 38.34767384]), array([161.7038, 202.7248, 225.5606])]\n",
            "Difference between previous centroids: 0.3720413947656553\n",
            "\n",
            "Current Centroids: \n",
            "[array([ 89.54599297, 127.46640755, 159.79844531]), array([34.2630877 , 37.2264088 , 38.35661887]), array([161.87818583, 202.86574353, 225.60365242])]\n",
            "Difference between previous centroids: 0.3207513811366329\n",
            "\n",
            "Current Centroids: \n",
            "[array([ 89.58592018, 127.63876571, 160.02790096]), array([34.3002998 , 37.27348434, 38.41139241]), array([162.07487923, 202.95772947, 225.63285024])]\n",
            "Difference between previous centroids: 0.3722292533392901\n",
            "\n",
            "Current Centroids: \n",
            "[array([ 89.63740317, 127.79767613, 160.23404648]), array([34.33632884, 37.30637377, 38.45947745]), array([162.25015142, 203.06319402, 225.67030083])]\n",
            "Difference between previous centroids: 0.3440009250893745\n",
            "\n",
            "Current Centroids: \n",
            "[array([ 89.76190476, 128.01158301, 160.4894282 ]), array([34.37689111, 37.35261845, 38.51338321]), array([162.4693712 , 203.23204868, 225.77626775])]\n",
            "Difference between previous centroids: 0.47006862860816995\n",
            "\n",
            "Current Centroids: \n",
            "[array([ 89.85331375, 128.19258307, 160.69395998]), array([34.40119562, 37.39554965, 38.59498505]), array([162.63906409, 203.33753815, 225.82258393])]\n",
            "Difference between previous centroids: 0.3662122667835981\n",
            "\n",
            "Current Centroids: \n",
            "[array([ 89.92420628, 128.3723619 , 160.92769315]), array([34.44960212, 37.46899867, 38.69628647]), array([162.7919641 , 203.41647971, 225.84662452])]\n",
            "Difference between previous centroids: 0.3743867448896592\n",
            "\n",
            "Current Centroids: \n",
            "[array([ 89.99432234, 128.54652015, 161.16758242]), array([34.48045711, 37.51341504, 38.75587943]), array([162.99713467, 203.53970528, 225.88088416])]\n",
            "Difference between previous centroids: 0.39714431463622474\n",
            "\n",
            "Current Centroids: \n",
            "[array([ 90.09729828, 128.67068273, 161.34173056]), array([34.48319258, 37.51780096, 38.76916708]), array([163.17423464, 203.70597904, 225.94616807])]\n",
            "Difference between previous centroids: 0.3461569011136743\n",
            "\n",
            "Current Centroids: \n",
            "[array([ 90.17921604, 128.79872379, 161.4793072 ]), array([34.52101257, 37.55311052, 38.81485771]), array([163.27250257, 203.79670443, 226.01977343])]\n",
            "Difference between previous centroids: 0.264768856257701\n",
            "\n",
            "Current Centroids: \n",
            "[array([ 90.26609676, 128.92251728, 161.60876682]), array([34.53192193, 37.56715184, 38.83509759]), array([163.40971074, 203.90867769, 226.0981405 ])]\n",
            "Difference between previous centroids: 0.27904156480108494\n",
            "\n",
            "Current Centroids: \n",
            "[array([ 90.3184459 , 129.01597676, 161.70170661]), array([34.53530676, 37.57549198, 38.8452125 ]), array([163.523918  , 203.9813626 , 226.15179126])]\n",
            "Difference between previous centroids: 0.20371802717712223\n",
            "\n",
            "Current Centroids: \n",
            "[array([ 90.35987666, 129.06983494, 161.74587339]), array([34.54117063, 37.58167989, 38.85582011]), array([163.57184325, 204.02425876, 226.1936554 ])]\n",
            "Difference between previous centroids: 0.11243944436186769\n",
            "\n"
          ]
        }
      ]
    },
    {
      "cell_type": "code",
      "source": [
        "# round up the color point\n",
        "K_centroids = np.round(K_centroids)\n",
        "print(\"Final top k common colors:\")\n",
        "print(K_centroids)\n",
        "# assign closest color to each pixel\n",
        "height, width, channels = np.shape(img)\n",
        "new_img = copy.deepcopy(img)\n",
        "for i in range(width):\n",
        "  for j in range(height):\n",
        "    pixel = img[j][i] # Read the pixel at location (i,j)\n",
        "    min_distance = None\n",
        "    for c in K_centroids:\n",
        "      dist = np.linalg.norm(pixel - c)\n",
        "      if min_distance == None:\n",
        "        min_distance = dist\n",
        "        new_img[j][i] = c\n",
        "      elif min_distance > dist:\n",
        "        min_distance = dist\n",
        "        new_img[j][i] = c # Assign a new value to the pixel"
      ],
      "metadata": {
        "colab": {
          "base_uri": "https://localhost:8080/"
        },
        "id": "5gbZGh1pPdYS",
        "outputId": "cc9d9c31-c491-416f-b47d-27b0f6afc488"
      },
      "execution_count": 18,
      "outputs": [
        {
          "output_type": "stream",
          "name": "stdout",
          "text": [
            "Final top k common colors:\n",
            "[[ 90. 129. 162.]\n",
            " [ 35.  38.  39.]\n",
            " [164. 204. 226.]]\n"
          ]
        }
      ]
    },
    {
      "cell_type": "code",
      "source": [
        "# show modified image\n",
        "cv2_imshow(np.asarray(new_img))\n",
        "# write output image\n",
        "cv2.imwrite(\"output1.png\", np.asarray(new_img))"
      ],
      "metadata": {
        "colab": {
          "base_uri": "https://localhost:8080/",
          "height": 162
        },
        "id": "QcLcGSIruGvP",
        "outputId": "b942f7a4-6ef8-4500-9e1a-e6bc626ff2c6"
      },
      "execution_count": 19,
      "outputs": [
        {
          "output_type": "display_data",
          "data": {
            "text/plain": [
              "<PIL.Image.Image image mode=RGB size=128x128 at 0x7F2E1ACB3350>"
            ],
            "image/png": "[encoded data removed]"
          },
          "metadata": {}
        },
        {
          "output_type": "execute_result",
          "data": {
            "text/plain": [
              "True"
            ]
          },
          "metadata": {},
          "execution_count": 19
        }
      ]
    }
  ]
}